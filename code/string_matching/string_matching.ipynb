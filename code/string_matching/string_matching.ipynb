{
 "cells": [
  {
   "cell_type": "code",
   "execution_count": 1,
   "metadata": {},
   "outputs": [],
   "source": [
    "import pandas as pd\n",
    "from rapidfuzz import process, fuzz"
   ]
  },
  {
   "cell_type": "code",
   "execution_count": 4,
   "metadata": {},
   "outputs": [],
   "source": [
    "# Load Instacart products\n",
    "products_df = pd.read_csv('../data/instacart-market-basket-analysis/products.csv')\n",
    "instacart_products = products_df['product_name'].str.lower().str.strip()"
   ]
  },
  {
   "cell_type": "code",
   "execution_count": 9,
   "metadata": {},
   "outputs": [],
   "source": [
    "# path = '../data/groceries/groceries.csv'\n",
    "path = '../data/store-data/store_data.csv'\n",
    "# path = '../data/retail-transactions/Retail_Transactions_Dataset.csv'"
   ]
  },
  {
   "cell_type": "code",
   "execution_count": 10,
   "metadata": {},
   "outputs": [
    {
     "name": "stdout",
     "output_type": "stream",
     "text": [
      "         Instacart Product       Matched Product  Similarity Score\n",
      "0                     soda                  soda        100.000000\n",
      "1   shaved parmesan cheese       parmesan cheese         81.081081\n",
      "2                   turkey                turkey        100.000000\n",
      "3  whole wheat spanakopita     whole wheat pasta         80.000000\n",
      "4   dark chocolate raisins  extra dark chocolate         80.952381\n"
     ]
    }
   ],
   "source": [
    "# Load products from another dataset (e.g., transactions)\n",
    "with open(path, 'r') as file:\n",
    "    transactions = [line.strip().lower() for line in file]\n",
    "\n",
    "# Normalize names\n",
    "def normalize(name):\n",
    "    return ''.join(e for e in name if e.isalnum() or e.isspace()).strip()\n",
    "\n",
    "instacart_products = instacart_products.apply(normalize)\n",
    "transactions = [normalize(item) for item in transactions]\n",
    "\n",
    "# Apply fuzzy matching\n",
    "threshold = 80  # Similarity threshold\n",
    "matches = []\n",
    "\n",
    "for product in instacart_products:\n",
    "    best_match = process.extractOne(product, transactions, scorer=fuzz.token_sort_ratio)\n",
    "    if best_match and best_match[1] >= threshold:\n",
    "        matches.append((product, best_match[0], best_match[1]))  # (instacart_product, matched_product, score)\n",
    "\n",
    "# Convert matches to DataFrame\n",
    "matches_df = pd.DataFrame(matches, columns=['Instacart Product', 'Matched Product', 'Similarity Score'])\n",
    "\n",
    "# Save to CSV\n",
    "matches_df.to_csv('product_matches.csv', index=False)\n",
    "\n",
    "print(matches_df.head())\n"
   ]
  },
  {
   "cell_type": "markdown",
   "metadata": {},
   "source": [
    "Conclusion: Dataset products intertwine enough, no need for clustering"
   ]
  }
 ],
 "metadata": {
  "kernelspec": {
   "display_name": "datamining",
   "language": "python",
   "name": "python3"
  },
  "language_info": {
   "codemirror_mode": {
    "name": "ipython",
    "version": 3
   },
   "file_extension": ".py",
   "mimetype": "text/x-python",
   "name": "python",
   "nbconvert_exporter": "python",
   "pygments_lexer": "ipython3",
   "version": "3.10.15"
  }
 },
 "nbformat": 4,
 "nbformat_minor": 2
}
